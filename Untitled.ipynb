{
 "cells": [
  {
   "cell_type": "code",
   "execution_count": 5,
   "id": "b3b03e35-88ef-43ff-b3fb-7ed84fb6f11d",
   "metadata": {},
   "outputs": [
    {
     "name": "stdout",
     "output_type": "stream",
     "text": [
      "Found 20000 images in the folder: /cluster/home/ctknight22/CS488/realvsfake/real_vs_fake/real-vs-fake/valid\n"
     ]
    }
   ],
   "source": [
    "import os\n",
    "\n",
    "def count_images_in_folder(folder_path):\n",
    "    \"\"\"\n",
    "    Counts the number of common image files in a given folder.\n",
    "    \n",
    "    Args:\n",
    "        folder_path (str): The path to the folder.\n",
    "        \n",
    "    Returns:\n",
    "        int: The total number of image files found.\n",
    "    \"\"\"\n",
    "    \n",
    "    # A set of common image file extensions\n",
    "    image_extensions = {'.jpg', '.jpeg', '.png', '.gif', '.bmp', '.tiff', '.webp'}\n",
    "    \n",
    "    count = 0\n",
    "    \n",
    "    # Walk through the directory and its subdirectories\n",
    "    for root, _, files in os.walk(folder_path):\n",
    "        for file in files:\n",
    "            # Check if the file's extension is in our set of image extensions\n",
    "            if os.path.splitext(file)[1].lower() in image_extensions:\n",
    "                count += 1\n",
    "                \n",
    "    return count\n",
    "\n",
    "# Update the folder_path with the new path you provided\n",
    "folder_path = \"/cluster/home/ctknight22/CS488/realvsfake/real_vs_fake/real-vs-fake/valid\"\n",
    "num_images = count_images_in_folder(folder_path)\n",
    "\n",
    "print(f\"Found {num_images} images in the folder: {folder_path}\")"
   ]
  },
  {
   "cell_type": "code",
   "execution_count": null,
   "id": "45028036-91b8-4bbd-9052-7ef280f0c69c",
   "metadata": {},
   "outputs": [],
   "source": []
  }
 ],
 "metadata": {
  "kernelspec": {
   "display_name": "Python (3.12)",
   "language": "python",
   "name": "py312"
  },
  "language_info": {
   "codemirror_mode": {
    "name": "ipython",
    "version": 3
   },
   "file_extension": ".py",
   "mimetype": "text/x-python",
   "name": "python",
   "nbconvert_exporter": "python",
   "pygments_lexer": "ipython3",
   "version": "3.12.3"
  }
 },
 "nbformat": 4,
 "nbformat_minor": 5
}
