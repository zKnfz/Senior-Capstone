{
 "cells": [
  {
   "cell_type": "code",
   "execution_count": 3,
   "id": "7340b3d5-1413-4cee-adca-256dd51a9c9c",
   "metadata": {},
   "outputs": [
    {
     "name": "stdout",
     "output_type": "stream",
     "text": [
      "Warning: Looks like you're using an outdated `kagglehub` version, please consider updating (latest version: 0.3.13)\n",
      "Dataset copied to: /cluster/home/ctknight22/CS488/realvsfake/realvsfake\n"
     ]
    }
   ],
   "source": [
    "import kagglehub\n",
    "import shutil\n",
    "import os\n",
    "\n",
    "# Download latest version (goes into cache)\n",
    "path = kagglehub.dataset_download(\"xhlulu/140k-real-and-fake-faces\")\n",
    "\n",
    "# Define your target path\n",
    "target = \"/cluster/home/ctknight22/CS488/realvsfake\"\n",
    "\n",
    "# Copy dataset over\n",
    "shutil.copytree(path, os.path.join(target, \"realvsfake\"), dirs_exist_ok=True)\n",
    "\n",
    "print(\"Dataset copied to:\", os.path.join(target, \"realvsfake\"))\n"
   ]
  },
  {
   "cell_type": "code",
   "execution_count": null,
   "id": "689bdbee-8c88-4295-ad96-a1caa1a7c569",
   "metadata": {},
   "outputs": [],
   "source": []
  }
 ],
 "metadata": {
  "kernelspec": {
   "display_name": "Python (3.12)",
   "language": "python",
   "name": "py312"
  },
  "language_info": {
   "codemirror_mode": {
    "name": "ipython",
    "version": 3
   },
   "file_extension": ".py",
   "mimetype": "text/x-python",
   "name": "python",
   "nbconvert_exporter": "python",
   "pygments_lexer": "ipython3",
   "version": "3.12.3"
  }
 },
 "nbformat": 4,
 "nbformat_minor": 5
}
